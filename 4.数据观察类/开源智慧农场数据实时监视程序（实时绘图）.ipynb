{
 "cells": [
  {
   "cell_type": "markdown",
   "metadata": {},
   "source": [
    "# 智能农场物联网数据监控\n",
    "\n",
    "功能：\n",
    "\n",
    "- 实时监视多个项目的数据；\n",
    "- 针对其中某个数据进行实时绘图。"
   ]
  },
  {
   "cell_type": "code",
   "execution_count": 1,
   "metadata": {},
   "outputs": [
    {
     "name": "stdout",
     "output_type": "stream",
     "text": [
      "\n",
      "连接结果: 连接成功 \n",
      "\n",
      "Topic:af88/a0 Message:b'225'\n",
      "\n",
      "Topic:af88/a1 Message:b'189'\n"
     ]
    }
   ],
   "source": [
    "import siot,time\n",
    "\n",
    "SERVER = \"192.168.3.122\"        #MQTT服务器IP\n",
    "CLIENT_ID = \"\"              #在SIoT上，CLIENT_ID可以留空\n",
    "IOT_UserName ='scope'        #用户名\n",
    "IOT_PassWord ='scope'     #密码\n",
    "project_list  = ['af01','af02','af88']   #“topic”为“项目名称/设备名称”\n",
    "topic_list= ['a0','d4','a1'] # 设备名称\n",
    "\n",
    "msg_map={} # 存储接收到的数据\n",
    "\n",
    "# 收到消息后存入字典，记录时间\n",
    "def on_subscribe(client,userdata,msg):\n",
    "    global msg_map\n",
    "    print(\"\\nTopic:\" + str(msg.topic) + \" Message:\" + str(msg.payload))\n",
    "    msg_map[str(msg.topic)]=[str(msg.payload.decode()),time.time()]\n",
    "\n",
    "# 读取后不删除\n",
    "def topic_read(topic):\n",
    "    global msg_map\n",
    "    result=msg_map.get(topic,None)\n",
    "    if result:\n",
    "        re = result[0]\n",
    "    return re\n",
    "def topic_read_time(topic):\n",
    "    global msg_map\n",
    "    result=msg_map.get(topic,None)\n",
    "    if result:\n",
    "        re = time.asctime(time.localtime(result[1]))\n",
    "    return re\n",
    "\n",
    "siot.init(CLIENT_ID, SERVER, user=IOT_UserName, password=IOT_PassWord)\n",
    "siot.connect()\n",
    "for item1 in project_list:\n",
    "    for item2 in topic_list:\n",
    "        siot.subscribe(item1 +'/'+ item2, on_subscribe)\n",
    "siot.loop()\n"
   ]
  },
  {
   "cell_type": "code",
   "execution_count": 2,
   "metadata": {},
   "outputs": [
    {
     "name": "stdout",
     "output_type": "stream",
     "text": [
      "Thu Mar 18 20:37:55 2021\n",
      "\n",
      "Topic:af88/a0 Message:b'226'\n",
      "\n",
      "Topic:af88/a1 Message:b'51'\n",
      "\n",
      "Topic:af88/a0 Message:b'229'\n",
      "\n",
      "Topic:af88/a1 Message:b'48'\n",
      "\n",
      "Topic:af88/a0 Message:b'220'\n",
      "\n",
      "Topic:af88/a1 Message:b'51'\n",
      "\n",
      "Topic:af88/a0 Message:b'217'\n",
      "\n",
      "Topic:af88/a1 Message:b'50'\n",
      "\n",
      "Topic:af88/a0 Message:b'223'\n",
      "\n",
      "Topic:af88/a1 Message:b'50'\n",
      "\n",
      "Topic:af88/a0 Message:b'222'\n",
      "\n",
      "Topic:af88/a1 Message:b'51'\n",
      "\n",
      "Topic:af88/a0 Message:b'227'\n",
      "\n",
      "Topic:af88/a1 Message:b'51'\n",
      "\n",
      "Topic:af88/a0 Message:b'221'\n",
      "\n",
      "Topic:af88/a1 Message:b'51'\n",
      "\n",
      "Topic:af88/a0 Message:b'226'\n",
      "\n",
      "Topic:af88/a1 Message:b'51'\n",
      "\n",
      "Topic:af88/a0 Message:b'226'\n",
      "\n",
      "Topic:af88/a1 Message:b'50'\n",
      "\n",
      "Topic:af88/a0 Message:b'228'\n",
      "\n",
      "Topic:af88/a1 Message:b'51'\n",
      "\n",
      "Topic:af88/a0 Message:b'223'\n",
      "\n",
      "Topic:af88/a1 Message:b'50'\n",
      "\n",
      "Topic:af88/a0 Message:b'219'\n",
      "\n",
      "Topic:af88/a1 Message:b'51'\n",
      "\n",
      "Topic:af88/a0 Message:b'224'\n",
      "\n",
      "Topic:af88/a1 Message:b'50'\n",
      "\n",
      "Topic:af88/a0 Message:b'223'\n",
      "\n",
      "Topic:af88/a1 Message:b'51'\n"
     ]
    }
   ],
   "source": [
    "# 读取某条消息的接收时间\n",
    "print(topic_read_time('af88/a0'))"
   ]
  },
  {
   "cell_type": "markdown",
   "metadata": {},
   "source": [
    "## 选择其中某个数据进行绘图"
   ]
  },
  {
   "cell_type": "code",
   "execution_count": null,
   "metadata": {},
   "outputs": [
    {
     "data": {
      "image/png": "[encoded data removed]",
      "text/plain": [
       "<Figure size 432x288 with 1 Axes>"
      ]
     },
     "metadata": {
      "needs_background": "light"
     },
     "output_type": "display_data"
    }
   ],
   "source": [
    "import matplotlib.pyplot as plt\n",
    "%matplotlib inline\n",
    "from IPython import display\n",
    "x,p1=[],[]\n",
    "i=0\n",
    "w=20 #设置数据的长度\n",
    "def draw(v1):\n",
    "    global x,i,p1\n",
    "    i=i+1\n",
    "    x.append(i)\n",
    "    p1.append(v1)\n",
    "    # 当数据太多了开始删除，避免图表越来越小\n",
    "    if len(x)>w:\n",
    "        x.pop(0)\n",
    "        p1.pop(0)\n",
    "    fig = plt.figure()\n",
    "    plt.plot(x,p1,'r--')\n",
    "    display.clear_output(wait=True)\n",
    "    plt.show()\n",
    "\n",
    "topicid = 'af88/a0'\n",
    "oldtime=topic_read_time(topicid)\n",
    "draw(topic_read(topicid))\n",
    "\n",
    "while True:\n",
    "    newtime=topic_read_time(topicid)\n",
    "    if oldtime!=newtime:\n",
    "        draw(topic_read(topicid))\n",
    "        oldtime=newtime"
   ]
  },
  {
   "cell_type": "code",
   "execution_count": null,
   "metadata": {},
   "outputs": [],
   "source": []
  }
 ],
 "metadata": {
  "kernelspec": {
   "display_name": "Python 3",
   "language": "python",
   "name": "python3"
  },
  "language_info": {
   "codemirror_mode": {
    "name": "ipython",
    "version": 3
   },
   "file_extension": ".py",
   "mimetype": "text/x-python",
   "name": "python",
   "nbconvert_exporter": "python",
   "pygments_lexer": "ipython3",
   "version": "3.6.6"
  }
 },
 "nbformat": 4,
 "nbformat_minor": 4
}
