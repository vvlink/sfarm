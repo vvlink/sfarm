{
 "cells": [
  {
   "cell_type": "markdown",
   "metadata": {},
   "source": [
    "# 校园智慧农场演示系统客户端\n",
    "\n",
    "\n",
    "## 1.功能描述\n",
    "\n",
    "- 定时（每隔1分钟）将数据上传到服务器；\n",
    "- 根据土壤湿度的预设阈值，能够自行浇水；\n",
    "- 实时响应控制指令，收到一次浇水指令，打开继电器（电磁阀）5秒钟。"
   ]
  },
  {
   "cell_type": "code",
   "execution_count": null,
   "metadata": {},
   "outputs": [],
   "source": [
    "\n",
    "print(IOT_pubTopic)"
   ]
  },
  {
   "cell_type": "markdown",
   "metadata": {},
   "source": [
    "## 2.代码说明\n",
    "\n",
    "- SIoT地址为：192.168.3.8\n",
    "- 光线传感器接A0，温湿度传感器接D4，继电器（电磁阀）模块接D2；\n",
    "- 项目名：aifarm88（aifarm+编号），教师演示为88\n",
    "- topicid名称\n",
    "\n",
    "设备 | 引脚 | topicid\n",
    "---|---|---\n",
    "光线  | A0  | aifarm88/a0\n",
    "环境温度  | D4  | aifarm88/d4\n",
    "环境湿度  | D4  | aifarm88/d4\n",
    "土壤湿度  | A1  | aifarm88/a1\n",
    "继电器（电磁阀）  | D2  | aifarm88/d2\n"
   ]
  },
  {
   "cell_type": "code",
   "execution_count": 9,
   "metadata": {},
   "outputs": [
    {
     "ename": "SyntaxError",
     "evalue": "invalid syntax (pymata4.py, line 330)",
     "output_type": "error",
     "traceback": [
      "Traceback \u001b[0;36m(most recent call last)\u001b[0m:\n",
      "  File \u001b[1;32m\"/usr/local/lib/python3.5/dist-packages/IPython/core/interactiveshell.py\"\u001b[0m, line \u001b[1;32m3267\u001b[0m, in \u001b[1;35mrun_code\u001b[0m\n    exec(code_obj, self.user_global_ns, self.user_ns)\n",
      "  File \u001b[1;32m\"<ipython-input-9-2f87ca3ca0e3>\"\u001b[0m, line \u001b[1;32m2\u001b[0m, in \u001b[1;35m<module>\u001b[0m\n    from pinpong.board import Board,Pin,DHT11\n",
      "\u001b[0;36m  File \u001b[0;32m\"/usr/local/lib/python3.5/dist-packages/pinpong/board.py\"\u001b[0;36m, line \u001b[0;32m13\u001b[0;36m, in \u001b[0;35m<module>\u001b[0;36m\u001b[0m\n\u001b[0;31m    from pinpong.base import pymata4\u001b[0m\n",
      "\u001b[0;36m  File \u001b[0;32m\"/usr/local/lib/python3.5/dist-packages/pinpong/base/pymata4.py\"\u001b[0;36m, line \u001b[0;32m330\u001b[0m\n\u001b[0;31m    f'[28]Successfully connected to: {self.ip_address}:{self.ip_port}')\u001b[0m\n\u001b[0m                                                                     ^\u001b[0m\n\u001b[0;31mSyntaxError\u001b[0m\u001b[0;31m:\u001b[0m invalid syntax\n"
     ]
    }
   ],
   "source": [
    "import time\n",
    "from pinpong.board import Board,Pin,DHT11\n",
    "Board(\"xugu\").begin()\n",
    "dht11 = DHT11(Pin(Pin.D4))\n",
    "while True:\n",
    "    c=[dht11.temp_c(),dht11.humidity()]\n",
    "    print(c)\n",
    "    time.sleep(1)"
   ]
  },
  {
   "cell_type": "code",
   "execution_count": null,
   "metadata": {},
   "outputs": [],
   "source": [
    "import siot,time\n",
    "from xugu import Pin\n",
    "t1=60 # 上传数据的间隔时间，单位秒\n",
    "t2=10 # 电磁阀打开的保持时间，单位秒\n",
    "soil=1000 # 土壤湿度传感器数值阈值，建议大于500\n",
    "SERVER = \"127.0.0.1\"        #MQTT服务器IP\n",
    "CLIENT_ID = \"\"              #在SIoT上，CLIENT_ID可以留空\n",
    "projectname='aifarm88' # 项目名称\n",
    "pubTopiclist= ['a0','d4','a1','d2'] # 设备名称\n",
    "IOT_pubTopic = [projectname +'/'+ x for x in pubTopiclist]\n",
    "IOT_UserName ='scope'     #用户名\n",
    "IOT_PassWord ='scope'     #密码\n",
    "\n",
    "p0 = Pin(\"A0\", Pin.ANALOG) # 光线传感器\n",
    "p1 = Pin(\"A1\", Pin.ANALOG) # 土壤湿度传感器\n",
    "p2 = Pin(2, Pin.OUT) # 继电器（电磁阀）\n",
    "\n",
    "ret = 0\n",
    "def sub_cb(client, userdata, msg):\n",
    "    global ret\n",
    "    print(\"\\nTopic:\" + str(msg.topic) + \" Message:\" + str(msg.payload))\n",
    "    if msg.payload==b'1':\n",
    "        ret = 1\n",
    "    if msg.payload==b'0':\n",
    "        ret = 0\n",
    "\n",
    "siot.init(CLIENT_ID, SERVER, user=IOT_UserName, password=IOT_PassWord)\n",
    "siot.connect()\n",
    "siot.subscribe(IOT_pubTopic[3], sub_cb)\n",
    "siot.loop()\n",
    "\n",
    "while True:\n",
    "    p0_v = p0.read_analog()\n",
    "    p1_v = p1.read_analog()\n",
    "    if ret==1 or p1_v>soil:\n",
    "        p2.write_digital(1)\n",
    "        time.sleep(t2)\n",
    "        p2.write_digital(0)\n",
    "        ret=0\n",
    "    else:\n",
    "        siot.publish(IOT_pubTopic[0],\"%d\"%p0_v)\n",
    "        siot.publish(IOT_pubTopic[2],\"%d\"%p1_v)\n",
    "        time.sleep(t1)\n",
    "        "
   ]
  },
  {
   "cell_type": "markdown",
   "metadata": {},
   "source": [
    "## 3.其他说明\n",
    "\n",
    "1）土壤传感器的使用\n",
    "\n",
    "由于土壤传感器数值会受到入土深度、土壤松紧度的影响，只能检测到土壤的相对湿度，我们把湿度的范围分为三等分，分别表示干燥、湿润、非常潮湿。之前记入的两个数据为湿度区间。例如：空气中读数为570，水中读数为0，这样就可以分为（570,380],(380,190],(190,0]这三个区间分别代表干燥、湿润、非常潮湿。\n",
    "\n",
    "2）环境温度和湿度的数据格式\n",
    "\n",
    "考虑到环境温度和湿度是密切关联的，于是以列表的形式，记录在同一个topicid中，使用时要进行分割。"
   ]
  }
 ],
 "metadata": {
  "kernelspec": {
   "display_name": "Python 3",
   "language": "python",
   "name": "python3"
  },
  "language_info": {
   "codemirror_mode": {
    "name": "ipython",
    "version": 3
   },
   "file_extension": ".py",
   "mimetype": "text/x-python",
   "name": "python",
   "nbconvert_exporter": "python",
   "pygments_lexer": "ipython3",
   "version": "3.5.2"
  }
 },
 "nbformat": 4,
 "nbformat_minor": 2
}
