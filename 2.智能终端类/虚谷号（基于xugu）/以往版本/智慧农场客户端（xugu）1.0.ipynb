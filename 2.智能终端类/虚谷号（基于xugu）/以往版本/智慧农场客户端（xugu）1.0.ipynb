{
 "cells": [
  {
   "cell_type": "markdown",
   "metadata": {},
   "source": [
    "# 智慧农场客户端（1.0）\n",
    "\n",
    "程序说明：\n",
    "\n",
    "- 基于xugu库开发，定时上传光线、土壤湿度数据；\n",
    "- 能够根据土壤湿度（阈值在参数中设置）自行浇水；\n",
    "- 能够接收MQTT服务器发送的浇水指令浇水。\n",
    "\n",
    "设备接线说明：\n",
    "\n",
    "- 光线传感器接 A0；\n",
    "- 土壤湿度传感器接 A1；\n",
    "- 电磁阀接D2。\n",
    "\n",
    "其他说明：\n",
    "\n",
    "- 不同的智能终端（虚谷号）需要设置不同的项目编号；\n",
    "- 支持任何一款MQTT服务器。\n",
    "- 受间隔时间的影响，发送指令后需要等待一定时间才能响应。"
   ]
  },
  {
   "cell_type": "code",
   "execution_count": null,
   "metadata": {},
   "outputs": [],
   "source": [
    "import siot\n",
    "from xugu import Pin\n",
    "from time import sleep\n",
    "\n",
    "iot_server = '127.0.0.1' # mqtt服务器地址\n",
    "iot_user = 'scope'\n",
    "iot_pwd = 'scope'\n",
    "projectid = 'sf88' # 项目编号\n",
    "t1=10 # 上传数据的间隔时间，单位秒\n",
    "t2=5 # 电磁阀打开的保持时间，单位秒\n",
    "soil=500 # 土壤湿度传感器数值阈值，建议大于500\n",
    "\n",
    "a0 = None\n",
    "a1 = None\n",
    "\n",
    "_siot_connected=False\n",
    "\n",
    "topic_msg_map={}\n",
    "def on_topic_subscribe(client,userdata,msg):\n",
    "    global topic_msg_map\n",
    "    topic_msg_map[str(msg.topic)]=str(msg.payload.decode())\n",
    "\n",
    "def on_topic_read(topic):\n",
    "    global topic_msg_map\n",
    "    result=topic_msg_map.get(topic,None)\n",
    "    if result:\n",
    "        del topic_msg_map[topic]\n",
    "        return result\n",
    "\n",
    "siot.init('',iot_server,user=iot_user,password=iot_pwd)\n",
    "siot.connect()\n",
    "_siot_connected=True\n",
    "if _siot_connected:\n",
    "    siot.subscribe(projectid + '/d2',on_topic_subscribe)\n",
    "    siot.loop()\n",
    "    while True:\n",
    "        if '1' == on_topic_read(projectid + '/d2'):\n",
    "            Pin(2, Pin.OUT).write_digital(1)\n",
    "            sleep(t2)\n",
    "        else:\n",
    "            Pin(2, Pin.OUT).write_digital(0)\n",
    "            a0 = Pin(\"A0\", Pin.ANALOG).read_analog()\n",
    "            siot.publish(projectid + '/a0',a0)\n",
    "            sleep(0.01);\n",
    "            a1 = Pin(\"A1\", Pin.ANALOG).read_analog()\n",
    "            siot.publish(projectid + '/a1',a1)\n",
    "            if soil < a1:\n",
    "                Pin(2, Pin.OUT).write_digital(1)\n",
    "                sleep(t2);\n",
    "                Pin(2, Pin.OUT).write_digital(0)\n",
    "            sleep(t1)"
   ]
  },
  {
   "cell_type": "code",
   "execution_count": null,
   "metadata": {},
   "outputs": [],
   "source": []
  }
 ],
 "metadata": {
  "kernelspec": {
   "display_name": "Python 3",
   "language": "python",
   "name": "python3"
  },
  "language_info": {
   "codemirror_mode": {
    "name": "ipython",
    "version": 3
   },
   "file_extension": ".py",
   "mimetype": "text/x-python",
   "name": "python",
   "nbconvert_exporter": "python",
   "pygments_lexer": "ipython3",
   "version": "3.5.2"
  }
 },
 "nbformat": 4,
 "nbformat_minor": 2
}
