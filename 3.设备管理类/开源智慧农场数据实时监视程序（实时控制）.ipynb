{
 "cells": [
  {
   "cell_type": "markdown",
   "metadata": {},
   "source": [
    "# 开源智慧农场物联网设备实时控制\n",
    "\n",
    "## 功能描述：\n",
    "\n",
    "- 实时监视多个项目的物联网数据，并输出；\n",
    "- 根据预设的阈值，对所有项目的设备进行控制。"
   ]
  },
  {
   "cell_type": "code",
   "execution_count": null,
   "metadata": {},
   "outputs": [
    {
     "name": "stdout",
     "output_type": "stream",
     "text": [
      "\n",
      "连接结果: 连接成功 \n",
      "\n",
      "Topic:af88/a1 Message:b'500' Time:Sat Mar 20 15:32:22 2021\n",
      "\n",
      "Topic:af88/a1 Message:b'601' Time:Sat Mar 20 15:32:33 2021\n",
      "项目：af88数据为601，超过预设值600，已经发送控制指令！\n"
     ]
    }
   ],
   "source": [
    "import siot,time\n",
    "\n",
    "SERVER = \"192.168.3.41\"        #MQTT服务器IP\n",
    "CLIENT_ID = \"\"              #在SIoT上，CLIENT_ID可以留空\n",
    "IOT_UserName ='scope'        #用户名\n",
    "IOT_PassWord ='scope'     #密码\n",
    "\n",
    "# 定义项目名称和数据阈值，不同的项目可以设置不同的阈值\n",
    "project_dict={'af01':500,'af02':'500','af03':500,'af88':600}\n",
    "\n",
    "# 设备名称，前面是要订阅的设备（传感器），后面是要控制的设备（电磁阀）\n",
    "topic_list= ['a1','d2'] \n",
    "\n",
    "msg_map={} # 存储接收到的数据\n",
    "\n",
    "# 收到消息后存入字典，记录时间\n",
    "def on_subscribe(client,userdata,msg):\n",
    "    global msg_map\n",
    "    t=time.asctime(time.localtime(time.time()))\n",
    "    print(\"\\nTopic:\" + str(msg.topic) + \" Message:\" + str(msg.payload) + \" Time:\" + t)\n",
    "    msg_map[str(msg.topic)]=[str(msg.payload.decode()),time.time()]\n",
    "\n",
    "# 读取后删除\n",
    "def topic_read(topic):\n",
    "    global msg_map\n",
    "    result=msg_map.get(topic,None)\n",
    "    if result:\n",
    "        re = result[0]\n",
    "        del msg_map[topic]\n",
    "        return re\n",
    "    return result\n",
    "\n",
    "siot.init(CLIENT_ID, SERVER, user=IOT_UserName, password=IOT_PassWord)\n",
    "siot.connect()\n",
    "\n",
    "# 订阅消息\n",
    "for item in project_dict.keys():\n",
    "    siot.subscribe(item +\"/\"+ topic_list[0], on_subscribe)\n",
    "siot.loop()\n",
    "\n",
    "# 通过循环读出数值，和阈值比较后判断是否发送控制指令\n",
    "\n",
    "temp_id = ''\n",
    "while True:\n",
    "    for item in project_dict.keys():\n",
    "        temp_id = item +'/'+ topic_list[0]\n",
    "        val = topic_read(temp_id)\n",
    "        if val:\n",
    "            default_val = project_dict.get(item,None)\n",
    "            if int(val) > int(default_val):\n",
    "                # 发送控制指令\n",
    "                siot.publish(item +'/'+ topic_list[1],\"1\")\n",
    "                print(('项目：%s的监测数据为%s，超过预设值%s，已经发送控制指令！')%(item,val,default_val))\n",
    "    time.sleep(1) #等待1秒钟继续\n"
   ]
  },
  {
   "cell_type": "markdown",
   "metadata": {},
   "source": [
    "## 代码说明\n",
    "\n",
    "需要在字典project_dict中，定义项目名称和数据阈值，不同的项目可以设置不同的阈值。\n",
    "\n",
    "project_dict={'af01':500,'af02':'500','af03':500,'af88':600}\n",
    "\n",
    "在智慧农场项目中，已经预设土壤传感器的设备名称为a1，控制浇水的电磁阀设备名称为d2。\n",
    "topic_list= ['a1','d2']\n",
    "\n",
    "## 演示说明\n",
    "\n",
    "通过任何一个MQTT工具（siot、mind+等），给相应的Topicid（如“af88/a1”）发送异常数据，那么就可以看到程序发送了相应的控制指令，如“af88/d2”）。"
   ]
  },
  {
   "cell_type": "code",
   "execution_count": null,
   "metadata": {},
   "outputs": [],
   "source": []
  }
 ],
 "metadata": {
  "kernelspec": {
   "display_name": "Python 3",
   "language": "python",
   "name": "python3"
  },
  "language_info": {
   "codemirror_mode": {
    "name": "ipython",
    "version": 3
   },
   "file_extension": ".py",
   "mimetype": "text/x-python",
   "name": "python",
   "nbconvert_exporter": "python",
   "pygments_lexer": "ipython3",
   "version": "3.6.6"
  }
 },
 "nbformat": 4,
 "nbformat_minor": 4
}
